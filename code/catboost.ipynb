{
 "cells": [
  {
   "cell_type": "code",
   "execution_count": 1,
   "metadata": {},
   "outputs": [
    {
     "name": "stderr",
     "output_type": "stream",
     "text": [
      "Matplotlib is building the font cache; this may take a moment.\n"
     ]
    }
   ],
   "source": [
    "import pandas as pd\n",
    "import numpy as np\n",
    "import matplotlib.pyplot as plt\n",
    "import seaborn as sns\n"
   ]
  },
  {
   "cell_type": "code",
   "execution_count": 3,
   "metadata": {},
   "outputs": [],
   "source": [
    "train = pd.read_csv('./csv/train.csv')\n",
    "test = pd.read_csv('./csv/test.csv')\n",
    "submit = pd.read_csv('./csv/sample_submission.csv')"
   ]
  },
  {
   "cell_type": "code",
   "execution_count": 15,
   "metadata": {},
   "outputs": [
    {
     "name": "stdout",
     "output_type": "stream",
     "text": [
      "<class 'pandas.core.frame.DataFrame'>\n",
      "RangeIndex: 20758 entries, 0 to 20757\n",
      "Data columns (total 18 columns):\n",
      " #   Column                          Non-Null Count  Dtype  \n",
      "---  ------                          --------------  -----  \n",
      " 0   id                              20758 non-null  int64  \n",
      " 1   Gender                          20758 non-null  object \n",
      " 2   Age                             20758 non-null  float64\n",
      " 3   Height                          20758 non-null  float64\n",
      " 4   Weight                          20758 non-null  float64\n",
      " 5   family_history_with_overweight  20758 non-null  object \n",
      " 6   FAVC                            20758 non-null  object \n",
      " 7   FCVC                            20758 non-null  float64\n",
      " 8   NCP                             20758 non-null  float64\n",
      " 9   CAEC                            20758 non-null  object \n",
      " 10  SMOKE                           20758 non-null  object \n",
      " 11  CH2O                            20758 non-null  float64\n",
      " 12  SCC                             20758 non-null  object \n",
      " 13  FAF                             20758 non-null  float64\n",
      " 14  TUE                             20758 non-null  float64\n",
      " 15  CALC                            20758 non-null  object \n",
      " 16  MTRANS                          20758 non-null  object \n",
      " 17  NObeyesdad                      20758 non-null  object \n",
      "dtypes: float64(8), int64(1), object(9)\n",
      "memory usage: 2.9+ MB\n"
     ]
    }
   ],
   "source": [
    "train.info()"
   ]
  },
  {
   "cell_type": "code",
   "execution_count": 5,
   "metadata": {},
   "outputs": [
    {
     "name": "stdout",
     "output_type": "stream",
     "text": [
      "<class 'pandas.core.frame.DataFrame'>\n",
      "RangeIndex: 13840 entries, 0 to 13839\n",
      "Data columns (total 17 columns):\n",
      " #   Column                          Non-Null Count  Dtype  \n",
      "---  ------                          --------------  -----  \n",
      " 0   id                              13840 non-null  int64  \n",
      " 1   Gender                          13840 non-null  object \n",
      " 2   Age                             13840 non-null  float64\n",
      " 3   Height                          13840 non-null  float64\n",
      " 4   Weight                          13840 non-null  float64\n",
      " 5   family_history_with_overweight  13840 non-null  object \n",
      " 6   FAVC                            13840 non-null  object \n",
      " 7   FCVC                            13840 non-null  float64\n",
      " 8   NCP                             13840 non-null  float64\n",
      " 9   CAEC                            13840 non-null  object \n",
      " 10  SMOKE                           13840 non-null  object \n",
      " 11  CH2O                            13840 non-null  float64\n",
      " 12  SCC                             13840 non-null  object \n",
      " 13  FAF                             13840 non-null  float64\n",
      " 14  TUE                             13840 non-null  float64\n",
      " 15  CALC                            13840 non-null  object \n",
      " 16  MTRANS                          13840 non-null  object \n",
      "dtypes: float64(8), int64(1), object(8)\n",
      "memory usage: 1.8+ MB\n"
     ]
    }
   ],
   "source": [
    "test.info()"
   ]
  },
  {
   "cell_type": "code",
   "execution_count": 22,
   "metadata": {},
   "outputs": [
    {
     "data": {
      "text/plain": [
       "(34598, 16)"
      ]
     },
     "execution_count": 22,
     "metadata": {},
     "output_type": "execute_result"
    }
   ],
   "source": [
    "drop_train = train.loc[:, \"Gender\":\"MTRANS\"]\n",
    "drop_test = test.loc[:, \"Gender\":\"MTRANS\"]\n",
    "together = pd.concat([drop_train, drop_test])\n",
    "together.shape"
   ]
  },
  {
   "cell_type": "code",
   "execution_count": 23,
   "metadata": {},
   "outputs": [],
   "source": [
    "categorical = together.select_dtypes(include=[\"object\"]).columns\n",
    "numerical = together.select_dtypes(include=[\"int64\", \"float64\"]).columns"
   ]
  },
  {
   "cell_type": "code",
   "execution_count": 32,
   "metadata": {},
   "outputs": [
    {
     "name": "stdout",
     "output_type": "stream",
     "text": [
      "0          Male\n",
      "1        Female\n",
      "2        Female\n",
      "3        Female\n",
      "4          Male\n",
      "          ...  \n",
      "13835      Male\n",
      "13836    Female\n",
      "13837    Female\n",
      "13838      Male\n",
      "13839      Male\n",
      "Name: Gender, Length: 34598, dtype: object\n",
      "0        yes\n",
      "1        yes\n",
      "2        yes\n",
      "3        yes\n",
      "4        yes\n",
      "        ... \n",
      "13835    yes\n",
      "13836     no\n",
      "13837     no\n",
      "13838    yes\n",
      "13839    yes\n",
      "Name: family_history_with_overweight, Length: 34598, dtype: object\n",
      "0        yes\n",
      "1        yes\n",
      "2        yes\n",
      "3        yes\n",
      "4        yes\n",
      "        ... \n",
      "13835     no\n",
      "13836    yes\n",
      "13837    yes\n",
      "13838    yes\n",
      "13839    yes\n",
      "Name: FAVC, Length: 34598, dtype: object\n",
      "0         Sometimes\n",
      "1        Frequently\n",
      "2         Sometimes\n",
      "3         Sometimes\n",
      "4         Sometimes\n",
      "            ...    \n",
      "13835     Sometimes\n",
      "13836     Sometimes\n",
      "13837    Frequently\n",
      "13838     Sometimes\n",
      "13839     Sometimes\n",
      "Name: CAEC, Length: 34598, dtype: object\n",
      "0        no\n",
      "1        no\n",
      "2        no\n",
      "3        no\n",
      "4        no\n",
      "         ..\n",
      "13835    no\n",
      "13836    no\n",
      "13837    no\n",
      "13838    no\n",
      "13839    no\n",
      "Name: SMOKE, Length: 34598, dtype: object\n",
      "0        no\n",
      "1        no\n",
      "2        no\n",
      "3        no\n",
      "4        no\n",
      "         ..\n",
      "13835    no\n",
      "13836    no\n",
      "13837    no\n",
      "13838    no\n",
      "13839    no\n",
      "Name: SCC, Length: 34598, dtype: object\n",
      "0        Sometimes\n",
      "1               no\n",
      "2               no\n",
      "3        Sometimes\n",
      "4        Sometimes\n",
      "           ...    \n",
      "13835    Sometimes\n",
      "13836    Sometimes\n",
      "13837    Sometimes\n",
      "13838           no\n",
      "13839    Sometimes\n",
      "Name: CALC, Length: 34598, dtype: object\n",
      "0        Public_Transportation\n",
      "1                   Automobile\n",
      "2        Public_Transportation\n",
      "3        Public_Transportation\n",
      "4        Public_Transportation\n",
      "                 ...          \n",
      "13835    Public_Transportation\n",
      "13836    Public_Transportation\n",
      "13837    Public_Transportation\n",
      "13838    Public_Transportation\n",
      "13839    Public_Transportation\n",
      "Name: MTRANS, Length: 34598, dtype: object\n"
     ]
    }
   ],
   "source": [
    "for i, col in enumerate(categorical):\n",
    "    print(together[col])"
   ]
  },
  {
   "cell_type": "code",
   "execution_count": null,
   "metadata": {},
   "outputs": [],
   "source": [
    "plt.figure(figsize=(10, 6))\n",
    "together[col].value_counts().plot.bar()\n",
    "plt.title(col)\n",
    "plt.ylabel(col)\n",
    "plt.show()"
   ]
  },
  {
   "cell_type": "code",
   "execution_count": 30,
   "metadata": {},
   "outputs": [
    {
     "data": {
      "image/png": "[encoded data removed]",
      "text/plain": [
       "<Figure size 600x200 with 1 Axes>"
      ]
     },
     "metadata": {},
     "output_type": "display_data"
    }
   ],
   "source": [
    "plt.figure(figsize=(6, 2))\n",
    "together['Gender'].value_counts().plot.bar()\n",
    "plt.title('Gender')\n",
    "plt.ylabel('Gender')\n",
    "plt.show()"
   ]
  },
  {
   "cell_type": "code",
   "execution_count": null,
   "metadata": {},
   "outputs": [],
   "source": [
    "plt.figure(figsize=(20,15))\n",
    "sns.countplot(data = traindf, x='NObeyesdad', hue='family_history_with_overweight')"
   ]
  },
  {
   "cell_type": "code",
   "execution_count": null,
   "metadata": {},
   "outputs": [],
   "source": [
    "\n",
    "for i in categorical[1:]:\n",
    "    plt.figure(figsize=(10,6))\n",
    "    sns.barplot(x=i, y = label, hue='Gender', data = train)\n",
    "plt.show()"
   ]
  },
  {
   "cell_type": "code",
   "execution_count": 55,
   "metadata": {},
   "outputs": [],
   "source": [
    "from sklearn.preprocessing import LabelEncoder\n",
    "\n",
    "def encode_features(data):\n",
    "    features = data.select_dtypes(include=['object']).columns\n",
    "    \n",
    "    for feature in features:\n",
    "        encoder = LabelEncoder()\n",
    "        feature_data = encoder.fit(data[feature].astype(str))\n",
    "        data[feature] = encoder.transform(feature_data.astype(str))\n",
    "        \n",
    "    return data"
   ]
  },
  {
   "cell_type": "code",
   "execution_count": 56,
   "metadata": {},
   "outputs": [],
   "source": [
    "df_train = encode_features(train)\n",
    "df_test = encode_features(test)"
   ]
  },
  {
   "cell_type": "code",
   "execution_count": 13,
   "metadata": {},
   "outputs": [],
   "source": [
    "label = df_train['NObeyesdad']\n",
    "df_train.drop(columns =['NObeyesdad', 'id'], inplace = True)\n",
    "df_test.drop(columns='id', inplace = True)"
   ]
  },
  {
   "cell_type": "code",
   "execution_count": 25,
   "metadata": {},
   "outputs": [],
   "source": [
    "from sklearn.preprocessing import MinMaxScaler\n",
    "\n",
    "def scaler_features(data):\n",
    "    features = data.select_dtypes(include=[\"int64\", \"float64\"]).columns\n",
    "    for feature in features:\n",
    "        scaler = MinMaxScaler()\n",
    "        feature_data = data[feature].values.reshape(-1, 1)\n",
    "        scaler.fit(feature_data)\n",
    "        data[feature] = scaler.transform(feature_data)\n",
    "    \n",
    "    return data"
   ]
  },
  {
   "cell_type": "code",
   "execution_count": 26,
   "metadata": {},
   "outputs": [],
   "source": [
    "df_train = scaler_features(df_train)\n",
    "df_test = scaler_features(df_test)"
   ]
  },
  {
   "cell_type": "code",
   "execution_count": 29,
   "metadata": {},
   "outputs": [
    {
     "data": {
      "text/plain": [
       "count    20758.000000\n",
       "mean         2.506841\n",
       "std          1.148730\n",
       "min          0.000000\n",
       "25%          3.000000\n",
       "50%          3.000000\n",
       "75%          3.000000\n",
       "max          4.000000\n",
       "Name: MTRANS, dtype: float64"
      ]
     },
     "execution_count": 29,
     "metadata": {},
     "output_type": "execute_result"
    }
   ],
   "source": [
    "df_train['MTRANS'].describe()"
   ]
  }
 ],
 "metadata": {
  "kernelspec": {
   "display_name": "Python 3",
   "language": "python",
   "name": "python3"
  },
  "language_info": {
   "codemirror_mode": {
    "name": "ipython",
    "version": 3
   },
   "file_extension": ".py",
   "mimetype": "text/x-python",
   "name": "python",
   "nbconvert_exporter": "python",
   "pygments_lexer": "ipython3",
   "version": "3.11.5"
  }
 },
 "nbformat": 4,
 "nbformat_minor": 2
}
